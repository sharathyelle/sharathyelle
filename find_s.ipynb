{
  "nbformat": 4,
  "nbformat_minor": 0,
  "metadata": {
    "colab": {
      "provenance": [],
      "authorship_tag": "ABX9TyMNpGAXKZTZAp25wh9QpB+r",
      "include_colab_link": true
    },
    "kernelspec": {
      "name": "python3",
      "display_name": "Python 3"
    },
    "language_info": {
      "name": "python"
    }
  },
  "cells": [
    {
      "cell_type": "markdown",
      "metadata": {
        "id": "view-in-github",
        "colab_type": "text"
      },
      "source": [
        "<a href=\"https://colab.research.google.com/github/sharathyelle/sharathyelle/blob/main/find_s.ipynb\" target=\"_parent\"><img src=\"https://colab.research.google.com/assets/colab-badge.svg\" alt=\"Open In Colab\"/></a>"
      ]
    },
    {
      "cell_type": "markdown",
      "source": [
        "###               **ASSIGNMENT-1**\n",
        "Name: **Yelle Sharath**\n",
        "Reg.no:**21bce7428**"
      ],
      "metadata": {
        "id": "0prep953f6iv"
      }
    },
    {
      "cell_type": "code",
      "execution_count": 1,
      "metadata": {
        "colab": {
          "base_uri": "https://localhost:8080/",
          "height": 0
        },
        "id": "J6g2tJ3Ifrqw",
        "outputId": "aff75f6f-a5f6-447d-b7cb-7876d5572cd1"
      },
      "outputs": [
        {
          "output_type": "stream",
          "name": "stdout",
          "text": [
            "   Example    Sky AirTemp Humidity    Wind Water Forecast EnjoySport\n",
            "0        1  Sunny    Warm   Normal  Strong  Warm     Same        Yes\n",
            "1        2  Sunny    Warm     High  Strong  Warm     Same        Yes\n",
            "2        3  Rainy    Cold     High  Strong  Warm   Change         No\n",
            "3        4  Sunny    Warm     High  Strong  Cool   Change        Yes\n",
            " The attributes are:  [[1 'Sunny' 'Warm' 'Normal' 'Strong' 'Warm' 'Same']\n",
            " [2 'Sunny' 'Warm' 'High' 'Strong' 'Warm' 'Same']\n",
            " [3 'Rainy' 'Cold' 'High' 'Strong' 'Warm' 'Change']\n",
            " [4 'Sunny' 'Warm' 'High' 'Strong' 'Cool' 'Change']]\n",
            " The target is:  ['Yes' 'Yes' 'No' 'Yes']\n",
            " The final hypothesis is: ['?' 'Sunny' 'Warm' '?' 'Strong' '?' '?']\n"
          ]
        }
      ],
      "source": [
        "import pandas as pd\n",
        "import numpy as np\n",
        " \n",
        "#to read the data in the csv file\n",
        "data = pd.read_csv(\"enjoysport.csv\")\n",
        "print(data,)\n",
        " \n",
        "#making an array of all the attributes\n",
        "d = np.array(data)[:,:-1]\n",
        "print(\" The attributes are: \",d)\n",
        " \n",
        "#segragating the target that has positive and negative examples\n",
        "target = np.array(data)[:,-1]\n",
        "print(\" The target is: \",target)\n",
        " \n",
        "#training function to implement find-s algorithm\n",
        "def train(c,t):\n",
        "    for i, val in enumerate(t):\n",
        "        if val == \"Yes\":\n",
        "            specific_hypothesis = c[i].copy()\n",
        "            break\n",
        "             \n",
        "    for i, val in enumerate(c):\n",
        "        if t[i] == \"Yes\":\n",
        "            for x in range(len(specific_hypothesis)):\n",
        "                if val[x] != specific_hypothesis[x]:\n",
        "                    specific_hypothesis[x] = '?'\n",
        "                else:\n",
        "                    pass\n",
        "                 \n",
        "    return specific_hypothesis\n",
        " \n",
        "#obtaining the final hypothesis\n",
        "print(\" The final hypothesis is:\",train(d,target))"
      ]
    },
    {
      "cell_type": "markdown",
      "source": [],
      "metadata": {
        "id": "dWpeL7gLf3dL"
      }
    }
  ]
}